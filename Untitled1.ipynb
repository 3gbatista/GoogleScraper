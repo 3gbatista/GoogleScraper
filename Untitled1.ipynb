{
 "metadata": {
  "name": "",
  "signature": "sha256:203113fb9a0e4318efbc5d679805fcd3586cb3b48836d7fc8c9f1d04a455f18a"
 },
 "nbformat": 3,
 "nbformat_minor": 0,
 "worksheets": []
}