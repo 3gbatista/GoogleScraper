{
 "metadata": {
  "name": "",
  "signature": "sha256:5aedbb77e7611895f897a6cb4b0bf33ffc778b31adf7ec430bb706b0b63fb2d5"
 },
 "nbformat": 3,
 "nbformat_minor": 0,
 "worksheets": [
  {
   "cells": [
    {
     "cell_type": "code",
     "collapsed": false,
     "input": [
      "import threading\n",
      "import time\n",
      "\n",
      "class count_stuff(threading.Thread):\n",
      "    \"\"\" \n",
      "        A thread class that will count a number, sleep and output that number\n",
      "    \"\"\"\n",
      "    \n",
      "    def __init__ (self, start_num, end):\n",
      "        self.num = start_num\n",
      "        self.end = end\n",
      "        threading.Thread.__init__ (self)\n",
      "    \n",
      "    def run(self):\n",
      "        while True:\n",
      "            if self.num != self.end:\n",
      "                self.num += 1\n",
      "                print(\"Outputting: \", str(self.num))\n",
      "                time.sleep(5)\n",
      "            else:\n",
      "                break\n",
      "        \n",
      "        \n",
      "myThread = count_stuff(1, 5)\n",
      "myThread.start()"
     ],
     "language": "python",
     "metadata": {},
     "outputs": [
      {
       "output_type": "stream",
       "stream": "stdout",
       "text": [
        "Outputting:  3\n",
        "Outputting:  4\n",
        "Outputting:  5\n",
        "Outputting:  2\n"
       ]
      }
     ],
     "prompt_number": 9
    },
    {
     "cell_type": "code",
     "collapsed": false,
     "input": [
      "import time\n",
      "'wait' in time.__dict__\n",
      "#'sleep' in time.__dict__"
     ],
     "language": "python",
     "metadata": {},
     "outputs": [
      {
       "output_type": "stream",
       "stream": "stdout",
       "text": [
        "Outputting:  3\n",
        "Outputting:  4\n"
       ]
      },
      {
       "metadata": {},
       "output_type": "pyout",
       "prompt_number": 10,
       "text": [
        "False"
       ]
      }
     ],
     "prompt_number": 10
    },
    {
     "cell_type": "code",
     "collapsed": false,
     "input": [],
     "language": "python",
     "metadata": {},
     "outputs": [
      {
       "output_type": "stream",
       "stream": "stdout",
       "text": [
        "Outputting:  5\n"
       ]
      }
     ],
     "prompt_number": 10
    },
    {
     "cell_type": "code",
     "collapsed": false,
     "input": [],
     "language": "python",
     "metadata": {},
     "outputs": []
    }
   ],
   "metadata": {}
  }
 ]
}