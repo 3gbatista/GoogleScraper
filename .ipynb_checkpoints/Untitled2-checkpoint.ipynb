{
 "metadata": {
  "name": "",
  "signature": "sha256:eeed0b5dea3d6bced789a4ec95c930f22721f4c5b22ed7e0d72b8b3d582a5b17"
 },
 "nbformat": 3,
 "nbformat_minor": 0,
 "worksheets": [
  {
   "cells": [
    {
     "cell_type": "code",
     "collapsed": false,
     "input": [
      "import threading\n",
      "import time\n",
      "\n",
      "class count_stuff(threading.Thread):\n",
      "    \"\"\" \n",
      "        A thread class that will count a number, sleep and output that number\n",
      "    \"\"\"\n",
      "    \n",
      "    def __init__ (self, start_num, end):\n",
      "        self.num = start_num\n",
      "        self.end = end\n",
      "        threading.Thread.__init__ (self)\n",
      "    \n",
      "    def run(self):\n",
      "        while True:\n",
      "            if self.num != self.end:\n",
      "                self.num += 1\n",
      "                print(\"Outputting: \", str(self.num))\n",
      "                time.sleep(5)\n",
      "            else:\n",
      "                break\n",
      "        \n",
      "        \n",
      "myThread = count_stuff(1, 5)\n",
      "myThread.start()"
     ],
     "language": "python",
     "metadata": {},
     "outputs": [
      {
       "output_type": "stream",
       "stream": "stdout",
       "text": [
        "Outputting:  2\n"
       ]
      },
      {
       "output_type": "stream",
       "stream": "stderr",
       "text": [
        "Exception in thread Thread-5:\n",
        "Traceback (most recent call last):\n",
        "  File \"/usr/lib/python3.4/threading.py\", line 921, in _bootstrap_inner\n",
        "    self.run()\n",
        "  File \"<ipython-input-4-35e99bf877c8>\", line 19, in run\n",
        "    time.wait(5)\n",
        "AttributeError: 'module' object has no attribute 'wait'\n",
        "\n"
       ]
      }
     ],
     "prompt_number": 4
    },
    {
     "cell_type": "code",
     "collapsed": false,
     "input": [
      "import time\n",
      "'wait' in time.__dict__\n",
      "#'sleep' in time.__dict__"
     ],
     "language": "python",
     "metadata": {},
     "outputs": [
      {
       "metadata": {},
       "output_type": "pyout",
       "prompt_number": 7,
       "text": [
        "False"
       ]
      }
     ],
     "prompt_number": 7
    },
    {
     "cell_type": "code",
     "collapsed": false,
     "input": [],
     "language": "python",
     "metadata": {},
     "outputs": []
    }
   ],
   "metadata": {}
  }
 ]
}